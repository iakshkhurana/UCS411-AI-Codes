{
 "cells": [
  {
   "cell_type": "code",
   "execution_count": 4,
   "metadata": {},
   "outputs": [
    {
     "name": "stdout",
     "output_type": "stream",
     "text": [
      "Solution Steps : \n",
      "Jug1: 0, Jug2: 0\n",
      "Jug1: 0, Jug2: 3\n",
      "Jug1: 3, Jug2: 0\n",
      "Jug1: 3, Jug2: 3\n",
      "Jug1: 4, Jug2: 2\n"
     ]
    }
   ],
   "source": [
    "# defining the jugs and target\n",
    "jug1 = 4\n",
    "jug2 = 3\n",
    "aim = 2\n",
    "visited = set()\n",
    "\n",
    "def pour_water(jug1, jug2, aim):\n",
    "    stack = [(0, 0)]  # empty jugs\n",
    "    steps = []\n",
    "    \n",
    "    while stack:\n",
    "        current_jug1, current_jug2 = stack.pop()  # storing current values in variable\n",
    "        \n",
    "        if current_jug1 == aim or current_jug2 == aim:\n",
    "            steps.append((current_jug1, current_jug2))\n",
    "            return steps\n",
    "        \n",
    "        if (current_jug1, current_jug2) in visited:  # agar kuchh rehgya toh continue\n",
    "            continue\n",
    "        \n",
    "        visited.add((current_jug1, current_jug2))\n",
    "        steps.append((current_jug1, current_jug2))\n",
    "        \n",
    "        possibles = [\n",
    "            (jug1, current_jug2), (current_jug1, jug2), (0, current_jug2), \n",
    "            (current_jug1, 0), \n",
    "            (current_jug1 - min(current_jug1, jug2 - current_jug2), current_jug2 + min(current_jug1, jug2 - current_jug2)),\n",
    "            (current_jug1 + min(current_jug2, jug1 - current_jug1), current_jug2 - min(current_jug2, jug1 - current_jug1)),\n",
    "        ]\n",
    "        \n",
    "        for state in possibles:\n",
    "            if state not in visited:\n",
    "                stack.append(state)\n",
    "    \n",
    "    return None\n",
    "\n",
    "solution = pour_water(jug1, jug2, aim)\n",
    "\n",
    "if solution:\n",
    "    print(\"Solution Steps : \")\n",
    "    for step in solution:\n",
    "        print(f\"Jug1: {step[0]}, Jug2: {step[1]}\")\n",
    "else:\n",
    "    print(\"No Solution found.\")\n"
   ]
  }
 ],
 "metadata": {
  "kernelspec": {
   "display_name": "base",
   "language": "python",
   "name": "python3"
  },
  "language_info": {
   "codemirror_mode": {
    "name": "ipython",
    "version": 3
   },
   "file_extension": ".py",
   "mimetype": "text/x-python",
   "name": "python",
   "nbconvert_exporter": "python",
   "pygments_lexer": "ipython3",
   "version": "3.11.5"
  }
 },
 "nbformat": 4,
 "nbformat_minor": 2
}
