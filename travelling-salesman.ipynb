{
 "cells": [
  {
   "cell_type": "markdown",
   "metadata": {},
   "source": [
    "**Problem Statement**\n",
    "Given a list of cities and the distances between each pair of cities, the task is to find the shortest possible tour that visits each city exactly once and returns to the starting city."
   ]
  },
  {
   "cell_type": "markdown",
   "metadata": {},
   "source": [
    "**Problem-Solving Model**\n",
    "TSP can be modeled as an undirected weighted graph. In the context of TSP, cities correspond to vertices, paths between cities correspond to edges, and the distance between cities (or the cost of travel) corresponds to the weight of the edge connecting the vertices."
   ]
  },
  {
   "cell_type": "code",
   "execution_count": 1,
   "metadata": {},
   "outputs": [
    {
     "ename": "ValueError",
     "evalue": "not enough values to unpack (expected 2, got 1)",
     "output_type": "error",
     "traceback": [
      "\u001b[1;31m---------------------------------------------------------------------------\u001b[0m",
      "\u001b[1;31mValueError\u001b[0m                                Traceback (most recent call last)",
      "Cell \u001b[1;32mIn[1], line 11\u001b[0m\n\u001b[0;32m      9\u001b[0m cities \u001b[38;5;241m=\u001b[39m []\n\u001b[0;32m     10\u001b[0m \u001b[38;5;28;01mfor\u001b[39;00m i \u001b[38;5;129;01min\u001b[39;00m \u001b[38;5;28mrange\u001b[39m(n):\n\u001b[1;32m---> 11\u001b[0m     x, y \u001b[38;5;241m=\u001b[39m \u001b[38;5;28mmap\u001b[39m(\u001b[38;5;28mint\u001b[39m, \u001b[38;5;28minput\u001b[39m(\u001b[38;5;124m\"\u001b[39m\u001b[38;5;124mEnter the coordinates of city \u001b[39m\u001b[38;5;132;01m{}\u001b[39;00m\u001b[38;5;124m: \u001b[39m\u001b[38;5;124m\"\u001b[39m\u001b[38;5;241m.\u001b[39mformat(i \u001b[38;5;241m+\u001b[39m \u001b[38;5;241m1\u001b[39m))\u001b[38;5;241m.\u001b[39msplit())\n\u001b[0;32m     12\u001b[0m     cities\u001b[38;5;241m.\u001b[39mappend((x, y))\n\u001b[0;32m     13\u001b[0m start \u001b[38;5;241m=\u001b[39m \u001b[38;5;28mint\u001b[39m(\u001b[38;5;28minput\u001b[39m(\u001b[38;5;124m\"\u001b[39m\u001b[38;5;124mEnter the starting city (1-\u001b[39m\u001b[38;5;132;01m{}\u001b[39;00m\u001b[38;5;124m): \u001b[39m\u001b[38;5;124m\"\u001b[39m\u001b[38;5;241m.\u001b[39mformat(n)))\n",
      "\u001b[1;31mValueError\u001b[0m: not enough values to unpack (expected 2, got 1)"
     ]
    }
   ],
   "source": [
    "import itertools\n",
    "def distance(city1,city2):\n",
    "    x1,y1 = city1\n",
    "    x2,y2 = city2\n",
    "    return ((x1-x2)**2 + (y1-y2)**2) ** 0.5\n",
    "def tour_distance(tour,cities):\n",
    "    return sum(distance(cities[tour[i]],cities[tour[i+1]]) for i in range(len(tour)-1)) + distance(cities[tour[-1]],cities[tour[0]])\n",
    "n = int(input(\"Enter the number of cities: \"))\n",
    "cities = []\n",
    "for i in range(n):\n",
    "    x, y = map(int, input(\"Enter the coordinates of city {}: \".format(i + 1)).split())\n",
    "    cities.append((x, y))\n",
    "start = int(input(\"Enter the starting city (1-{}): \".format(n)))\n",
    "tours = itertools.permutations(range(n))\n",
    "shortest_tour = None\n",
    "shortest_distance = float('inf')\n",
    "for tour in tours:import itertools\n",
    "\n",
    "# Distance function jo do cities ke beech ka distance calculate karta hai\n",
    "def distance(city1, city2):\n",
    "    x1, y1 = city1  # Pehli city ka x, y coordinates\n",
    "    x2, y2 = city2  # Dusri city ka x, y coordinates\n",
    "    return ((x1 - x2) ** 2 + (y1 - y2) ** 2) ** 0.5  # Euclidean distance formula\n",
    "\n",
    "# Tour distance function jo poore tour ka distance calculate karta hai\n",
    "def tour_distance(tour, cities):\n",
    "    total_distance = 0\n",
    "    for i in range(len(tour) - 1):\n",
    "        total_distance += distance(cities[tour[i]], cities[tour[i + 1]])  # Cities ke beech ka distance add karo\n",
    "    total_distance += distance(cities[tour[-1]], cities[tour[0]])  # Last city se first city ka distance bhi add karo\n",
    "    return total_distance\n",
    "\n",
    "# Number of cities input karna\n",
    "n = int(input(\"Kitni cities hain? \"))\n",
    "cities = []\n",
    "\n",
    "# Har city ka coordinates input lena\n",
    "for i in range(n):\n",
    "    x, y = map(int, input(f\"City {i + 1} ke coordinates daalo: \").split())  # x, y coordinates\n",
    "    cities.append((x, y))  # Coordinates ko list me add karo\n",
    "\n",
    "# Starting city input lena\n",
    "start = int(input(f\"Starting city ka number daalo (1-{n}): \")) - 1  # Starting city ko 0-index me convert karo\n",
    "\n",
    "# Sabhi possible tours (permutations) generate karna\n",
    "tours = itertools.permutations(range(n))\n",
    "\n",
    "# Shortest tour aur distance ko track karne ke liye variables\n",
    "shortest_tour = None\n",
    "shortest_distance = float('inf')  # Shuru me distance ko infinity set karte hain\n",
    "\n",
    "# Sabhi tours me se shortest wala dhoondhna\n",
    "for tour in tours:\n",
    "    if tour[0] != start:  # Agar tour starting city se nahi ho raha, to skip kar do\n",
    "        continue\n",
    "    current_distance = tour_distance(tour, cities)  # Is tour ka distance calculate karo\n",
    "    if current_distance < shortest_distance:  # Agar naya shortest tour milta hai, to update karo\n",
    "        shortest_tour = tour\n",
    "        shortest_distance = current_distance\n",
    "\n",
    "# Result print karo\n",
    "print(f\"Shortest tour: {' -> '.join(str(city + 1) for city in shortest_tour)}\")  # 1-index me print kar rahe hain\n",
    "print(f\"Shortest distance: {shortest_distance:.2f}\")  # Distance ko 2 decimal tak print karo\n",
    "\n",
    "    if tour[0] != start - 1:\n",
    "        continue\n",
    "    tour_distance = tour_distance(tour, cities)\n",
    "    if tour_distance < shortest_distance:\n",
    "        shortest_tour = tour\n",
    "        shortest_distance = tour_distance\n",
    "print(\"Shortest tour:\", \" -> \".join(str(city + 1) for city in shortest_tour))\n",
    "print(\"Shortest distance:\", shortest_distance)"
   ]
  }
 ],
 "metadata": {
  "kernelspec": {
   "display_name": "base",
   "language": "python",
   "name": "python3"
  },
  "language_info": {
   "codemirror_mode": {
    "name": "ipython",
    "version": 3
   },
   "file_extension": ".py",
   "mimetype": "text/x-python",
   "name": "python",
   "nbconvert_exporter": "python",
   "pygments_lexer": "ipython3",
   "version": "3.11.5"
  }
 },
 "nbformat": 4,
 "nbformat_minor": 2
}
